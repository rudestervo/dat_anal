{
 "cells": [
  {
   "cell_type": "code",
   "execution_count": 9,
   "metadata": {},
   "outputs": [],
   "source": [
    "from keras.models import Sequential\n",
    "from keras.layers import Dense\n",
    "from keras.utils import to_categorical\n",
    "import pandas as pd\n",
    "import numpy as np\n",
    "import matplotlib.pyplot as plt\n",
    "from sklearn.tree import DecisionTreeClassifier\n",
    "import seaborn as sns\n",
    "from sklearn.model_selection import train_test_split, GridSearchCV\n",
    "from sklearn.neighbors import KNeighborsClassifier\n",
    "from sklearn.svm import SVC\n",
    "from sklearn.ensemble import RandomForestClassifier, AdaBoostClassifier"
   ]
  },
  {
   "cell_type": "code",
   "execution_count": 10,
   "metadata": {},
   "outputs": [],
   "source": [
    "df = pd.read_csv('FIFA_World_Cup.csv').dropna()"
   ]
  },
  {
   "cell_type": "code",
   "execution_count": 11,
   "metadata": {},
   "outputs": [],
   "source": [
    "#видаляємо усі незначні дані та додаємо стовпець з переможцем\n",
    "df['result'] = df.apply(lambda row: 0 if row['Home.Team.Goals'] > row['Away.Team.Goals'] else 1, axis=1).astype(int)\n",
    "df = df.drop(['Home.Team.Goals', 'Away.Team.Goals', 'Half.time.Home.Goals', 'Half.time.Away.Goals', 'Referee',\n",
    "       'Assistant.1', 'Assistant.2', 'RoundID', 'MatchID',\n",
    "       'Home.Team.Initials', 'Away.Team.Initials', 'Attendance', 'Win.conditions'], axis=1)"
   ]
  },
  {
   "cell_type": "code",
   "execution_count": 12,
   "metadata": {},
   "outputs": [],
   "source": [
    "# Вибірка ознак та цільової змінної\n",
    "features = ['Year', 'Datetime', 'Stage', 'Stadium', 'City', 'Home.Team.Name', 'Away.Team.Name']\n",
    "target = ['result']"
   ]
  },
  {
   "cell_type": "code",
   "execution_count": 13,
   "metadata": {},
   "outputs": [],
   "source": [
    "df = df.apply(lambda x: pd.factorize(x)[0] + 1 if x.dtype == 'object' else x)"
   ]
  },
  {
   "cell_type": "code",
   "execution_count": 14,
   "metadata": {},
   "outputs": [],
   "source": [
    "X_train, X_test, y_train, y_test = train_test_split(df[features], df[target], test_size=0.2)"
   ]
  },
  {
   "cell_type": "code",
   "execution_count": 15,
   "metadata": {},
   "outputs": [],
   "source": [
    "# Кодування цільової змінної\n",
    "y_train_encoded = to_categorical(y_train)\n",
    "y_test_encoded = to_categorical(y_test)"
   ]
  },
  {
   "cell_type": "code",
   "execution_count": 16,
   "metadata": {},
   "outputs": [],
   "source": [
    "# Створення моделі\n",
    "model = Sequential()"
   ]
  },
  {
   "cell_type": "code",
   "execution_count": 27,
   "metadata": {},
   "outputs": [],
   "source": [
    "# Додавання шарів\n",
    "model.add(Dense(32, input_dim=len(features), activation='relu'))\n",
    "model.add(Dense(23, activation='relu'))\n",
    "model.add(Dense(2, activation='softmax')) # 2, бо у нас два класи: 0 і 1"
   ]
  },
  {
   "cell_type": "code",
   "execution_count": 28,
   "metadata": {},
   "outputs": [],
   "source": [
    "# Компіляція моделі\n",
    "model.compile(loss='categorical_crossentropy', \n",
    "              optimizer='adam', \n",
    "              metrics=['accuracy'])"
   ]
  },
  {
   "cell_type": "code",
   "execution_count": 49,
   "metadata": {},
   "outputs": [
    {
     "name": "stdout",
     "output_type": "stream",
     "text": [
      "Epoch 1/25\n",
      "40/40 [==============================] - 0s 3ms/step - loss: 0.6829 - accuracy: 0.5719\n",
      "Epoch 2/25\n",
      "40/40 [==============================] - 0s 2ms/step - loss: 0.6798 - accuracy: 0.5823\n",
      "Epoch 3/25\n",
      "40/40 [==============================] - 0s 3ms/step - loss: 0.6845 - accuracy: 0.5680\n",
      "Epoch 4/25\n",
      "40/40 [==============================] - 0s 3ms/step - loss: 0.6797 - accuracy: 0.5854\n",
      "Epoch 5/25\n",
      "40/40 [==============================] - 0s 2ms/step - loss: 0.6832 - accuracy: 0.5712\n",
      "Epoch 6/25\n",
      "40/40 [==============================] - 0s 3ms/step - loss: 0.6808 - accuracy: 0.5791\n",
      "Epoch 7/25\n",
      "40/40 [==============================] - 0s 2ms/step - loss: 0.6846 - accuracy: 0.5665\n",
      "Epoch 8/25\n",
      "40/40 [==============================] - 0s 3ms/step - loss: 0.6814 - accuracy: 0.5775\n",
      "Epoch 9/25\n",
      "40/40 [==============================] - 0s 3ms/step - loss: 0.6793 - accuracy: 0.5839\n",
      "Epoch 10/25\n",
      "40/40 [==============================] - 0s 3ms/step - loss: 0.6890 - accuracy: 0.5506\n",
      "Epoch 11/25\n",
      "40/40 [==============================] - 0s 3ms/step - loss: 0.6761 - accuracy: 0.5965\n",
      "Epoch 12/25\n",
      "40/40 [==============================] - 0s 3ms/step - loss: 0.6846 - accuracy: 0.5665\n",
      "Epoch 13/25\n",
      "40/40 [==============================] - 0s 2ms/step - loss: 0.6818 - accuracy: 0.5775\n",
      "Epoch 14/25\n",
      "40/40 [==============================] - 0s 3ms/step - loss: 0.6828 - accuracy: 0.5728\n",
      "Epoch 15/25\n",
      "40/40 [==============================] - 0s 3ms/step - loss: 0.6832 - accuracy: 0.5719\n",
      "Epoch 16/25\n",
      "40/40 [==============================] - 0s 3ms/step - loss: 0.6803 - accuracy: 0.5807\n",
      "Epoch 17/25\n",
      "40/40 [==============================] - 0s 3ms/step - loss: 0.6818 - accuracy: 0.5775\n",
      "Epoch 18/25\n",
      "40/40 [==============================] - 0s 3ms/step - loss: 0.6876 - accuracy: 0.5570\n",
      "Epoch 19/25\n",
      "40/40 [==============================] - 0s 3ms/step - loss: 0.6730 - accuracy: 0.6060\n",
      "Epoch 20/25\n",
      "40/40 [==============================] - 0s 3ms/step - loss: 0.6872 - accuracy: 0.5601\n",
      "Epoch 21/25\n",
      "40/40 [==============================] - 0s 3ms/step - loss: 0.6884 - accuracy: 0.5522\n",
      "Epoch 22/25\n",
      "40/40 [==============================] - 0s 3ms/step - loss: 0.6743 - accuracy: 0.6028\n",
      "Epoch 23/25\n",
      "40/40 [==============================] - 0s 2ms/step - loss: 0.6797 - accuracy: 0.5823\n",
      "Epoch 24/25\n",
      "40/40 [==============================] - 0s 2ms/step - loss: 0.6889 - accuracy: 0.5522\n",
      "Epoch 25/25\n",
      "40/40 [==============================] - 0s 3ms/step - loss: 0.6800 - accuracy: 0.5823\n"
     ]
    },
    {
     "data": {
      "text/plain": [
       "<keras.src.callbacks.History at 0x1d1a7e93100>"
      ]
     },
     "execution_count": 49,
     "metadata": {},
     "output_type": "execute_result"
    }
   ],
   "source": [
    "# Навчання моделі\n",
    "model.fit(X_train, y_train_encoded, epochs=25, steps_per_epoch = 40, batch_size=16)"
   ]
  },
  {
   "cell_type": "code",
   "execution_count": 50,
   "metadata": {},
   "outputs": [
    {
     "name": "stdout",
     "output_type": "stream",
     "text": [
      "6/6 [==============================] - 0s 3ms/step - loss: 0.6866 - accuracy: 0.5588\n",
      "Точність: 55.88\n"
     ]
    }
   ],
   "source": [
    "# Оцінка моделі\n",
    "loss, accuracy = model.evaluate(X_test, y_test_encoded)\n",
    "print('Точність: %.2f' % (accuracy*100))"
   ]
  }
 ],
 "metadata": {
  "kernelspec": {
   "display_name": "Python 3",
   "language": "python",
   "name": "python3"
  },
  "language_info": {
   "codemirror_mode": {
    "name": "ipython",
    "version": 3
   },
   "file_extension": ".py",
   "mimetype": "text/x-python",
   "name": "python",
   "nbconvert_exporter": "python",
   "pygments_lexer": "ipython3",
   "version": "3.9.13"
  }
 },
 "nbformat": 4,
 "nbformat_minor": 2
}
