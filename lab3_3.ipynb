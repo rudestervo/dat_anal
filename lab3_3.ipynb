{
 "cells": [
  {
   "cell_type": "code",
   "execution_count": 1,
   "metadata": {},
   "outputs": [],
   "source": [
    "# Імпортуємо необхідні бібліотеки\n",
    "import pandas as pd\n",
    "from keras.preprocessing.text import Tokenizer\n",
    "from keras.preprocessing.sequence import pad_sequences\n",
    "from keras.utils import to_categorical\n",
    "from sklearn.model_selection import train_test_split\n",
    "from keras.models import Sequential\n",
    "from keras.layers import Embedding, LSTM, Dense"
   ]
  },
  {
   "cell_type": "code",
   "execution_count": 2,
   "metadata": {},
   "outputs": [],
   "source": [
    "# Завантажуємо дані з файлу 'SMS_train.csv'\n",
    "dataframe = pd.read_csv('SMS_train.csv', encoding='ISO-8859-1')"
   ]
  },
  {
   "cell_type": "code",
   "execution_count": 3,
   "metadata": {},
   "outputs": [],
   "source": [
    "# Вибираємо потрібні стовпці\n",
    "dataframe = dataframe[['Label', 'Message_body']]"
   ]
  },
  {
   "cell_type": "code",
   "execution_count": 4,
   "metadata": {},
   "outputs": [],
   "source": [
    "# Ініціалізуємо токенізатор з максимальною кількістю слів 5000\n",
    "tokenizer = Tokenizer(num_words=5000)"
   ]
  },
  {
   "cell_type": "code",
   "execution_count": 5,
   "metadata": {},
   "outputs": [],
   "source": [
    "# Підготовка токенізатора до тексту\n",
    "tokenizer.fit_on_texts(dataframe['Message_body'])"
   ]
  },
  {
   "cell_type": "code",
   "execution_count": 6,
   "metadata": {},
   "outputs": [],
   "source": [
    "# Перетворення тексту в послідовності чисел\n",
    "sequences = tokenizer.texts_to_sequences(dataframe['Message_body'])"
   ]
  },
  {
   "cell_type": "code",
   "execution_count": 7,
   "metadata": {},
   "outputs": [],
   "source": [
    "# Падінг послідовностей до однакової довжини - 100\n",
    "X = pad_sequences(sequences, maxlen=100)"
   ]
  },
  {
   "cell_type": "code",
   "execution_count": 8,
   "metadata": {},
   "outputs": [],
   "source": [
    "# Перетворення міток в one-hot encoding\n",
    "y = to_categorical(dataframe['Label'].factorize()[0])"
   ]
  },
  {
   "cell_type": "code",
   "execution_count": 9,
   "metadata": {},
   "outputs": [],
   "source": [
    "# Розділення даних на тренувальні та тестові\n",
    "X_train, X_test, y_train, y_test = train_test_split(X, y, test_size=0.5)"
   ]
  },
  {
   "cell_type": "code",
   "execution_count": 10,
   "metadata": {},
   "outputs": [
    {
     "name": "stdout",
     "output_type": "stream",
     "text": [
      "WARNING:tensorflow:From C:\\Users\\dmitr\\AppData\\Local\\Packages\\PythonSoftwareFoundation.Python.3.9_qbz5n2kfra8p0\\LocalCache\\local-packages\\Python39\\site-packages\\keras\\src\\backend.py:873: The name tf.get_default_graph is deprecated. Please use tf.compat.v1.get_default_graph instead.\n",
      "\n"
     ]
    }
   ],
   "source": [
    "# Створення моделі\n",
    "model = Sequential()\n",
    "model.add(Embedding(5000, 64, input_length=100)) # Вбудовуємо слова в вектори\n",
    "model.add(LSTM(10)) # Додаємо шар LSTM з 10 нейронами\n",
    "model.add(Dense(2, activation='softmax')) # Вихідний шар з активаційною функцією softmax"
   ]
  },
  {
   "cell_type": "code",
   "execution_count": 11,
   "metadata": {},
   "outputs": [
    {
     "name": "stdout",
     "output_type": "stream",
     "text": [
      "WARNING:tensorflow:From C:\\Users\\dmitr\\AppData\\Local\\Packages\\PythonSoftwareFoundation.Python.3.9_qbz5n2kfra8p0\\LocalCache\\local-packages\\Python39\\site-packages\\keras\\src\\optimizers\\__init__.py:309: The name tf.train.Optimizer is deprecated. Please use tf.compat.v1.train.Optimizer instead.\n",
      "\n"
     ]
    }
   ],
   "source": [
    "# Компіляція моделі з оптимізатором 'adam' та функцією втрат 'categorical_crossentropy'\n",
    "model.compile(optimizer='adam', loss='categorical_crossentropy', metrics=['accuracy'])"
   ]
  },
  {
   "cell_type": "code",
   "execution_count": 12,
   "metadata": {},
   "outputs": [
    {
     "name": "stdout",
     "output_type": "stream",
     "text": [
      "Epoch 1/20\n",
      "WARNING:tensorflow:From C:\\Users\\dmitr\\AppData\\Local\\Packages\\PythonSoftwareFoundation.Python.3.9_qbz5n2kfra8p0\\LocalCache\\local-packages\\Python39\\site-packages\\keras\\src\\utils\\tf_utils.py:492: The name tf.ragged.RaggedTensorValue is deprecated. Please use tf.compat.v1.ragged.RaggedTensorValue instead.\n",
      "\n",
      "WARNING:tensorflow:From C:\\Users\\dmitr\\AppData\\Local\\Packages\\PythonSoftwareFoundation.Python.3.9_qbz5n2kfra8p0\\LocalCache\\local-packages\\Python39\\site-packages\\keras\\src\\engine\\base_layer_utils.py:384: The name tf.executing_eagerly_outside_functions is deprecated. Please use tf.compat.v1.executing_eagerly_outside_functions instead.\n",
      "\n",
      "20/20 [==============================] - 4s 91ms/step - loss: 0.6059 - accuracy: 0.8386 - val_loss: 0.4857 - val_accuracy: 0.8768\n",
      "Epoch 2/20\n",
      "20/20 [==============================] - 1s 51ms/step - loss: 0.3595 - accuracy: 0.8856 - val_loss: 0.3163 - val_accuracy: 0.8768\n",
      "Epoch 3/20\n",
      "20/20 [==============================] - 1s 42ms/step - loss: 0.2581 - accuracy: 0.8836 - val_loss: 0.2324 - val_accuracy: 0.8977\n",
      "Epoch 4/20\n",
      "20/20 [==============================] - 1s 43ms/step - loss: 0.1561 - accuracy: 0.9765 - val_loss: 0.1716 - val_accuracy: 0.9478\n",
      "Epoch 5/20\n",
      "20/20 [==============================] - 1s 48ms/step - loss: 0.1043 - accuracy: 0.9922 - val_loss: 0.1441 - val_accuracy: 0.9582\n",
      "Epoch 6/20\n",
      "20/20 [==============================] - 1s 42ms/step - loss: 0.0746 - accuracy: 0.9937 - val_loss: 0.1239 - val_accuracy: 0.9708\n",
      "Epoch 7/20\n",
      "20/20 [==============================] - 1s 42ms/step - loss: 0.0593 - accuracy: 0.9953 - val_loss: 0.1153 - val_accuracy: 0.9687\n",
      "Epoch 8/20\n",
      "20/20 [==============================] - 1s 43ms/step - loss: 0.0480 - accuracy: 0.9969 - val_loss: 0.1071 - val_accuracy: 0.9687\n",
      "Epoch 9/20\n",
      "20/20 [==============================] - 1s 51ms/step - loss: 0.0375 - accuracy: 0.9969 - val_loss: 0.0998 - val_accuracy: 0.9708\n",
      "Epoch 10/20\n",
      "20/20 [==============================] - 1s 48ms/step - loss: 0.0294 - accuracy: 0.9984 - val_loss: 0.0984 - val_accuracy: 0.9708\n",
      "Epoch 11/20\n",
      "20/20 [==============================] - 1s 44ms/step - loss: 0.0257 - accuracy: 1.0000 - val_loss: 0.0979 - val_accuracy: 0.9687\n",
      "Epoch 12/20\n",
      "20/20 [==============================] - 1s 45ms/step - loss: 0.0207 - accuracy: 1.0000 - val_loss: 0.0960 - val_accuracy: 0.9729\n",
      "Epoch 13/20\n",
      "20/20 [==============================] - 1s 44ms/step - loss: 0.0173 - accuracy: 1.0000 - val_loss: 0.0955 - val_accuracy: 0.9729\n",
      "Epoch 14/20\n",
      "20/20 [==============================] - 1s 45ms/step - loss: 0.0141 - accuracy: 1.0000 - val_loss: 0.0968 - val_accuracy: 0.9729\n",
      "Epoch 15/20\n",
      "20/20 [==============================] - 1s 45ms/step - loss: 0.0124 - accuracy: 1.0000 - val_loss: 0.0974 - val_accuracy: 0.9729\n",
      "Epoch 16/20\n",
      "WARNING:tensorflow:Your input ran out of data; interrupting training. Make sure that your dataset or generator can generate at least `steps_per_epoch * epochs` batches (in this case, 400 batches). You may need to use the repeat() function when building your dataset.\n",
      "20/20 [==============================] - 0s 12ms/step - loss: 0.0000e+00 - accuracy: 0.0000e+00 - val_loss: 0.0974 - val_accuracy: 0.9729\n"
     ]
    },
    {
     "data": {
      "text/plain": [
       "<keras.src.callbacks.History at 0x19fc43ecd00>"
      ]
     },
     "execution_count": 12,
     "metadata": {},
     "output_type": "execute_result"
    }
   ],
   "source": [
    "# Навчання моделі\n",
    "model.fit(X_train, y_train, steps_per_epoch = 20, epochs=20, batch_size=32, validation_data=(X_test, y_test))"
   ]
  }
 ],
 "metadata": {
  "kernelspec": {
   "display_name": "Python 3",
   "language": "python",
   "name": "python3"
  },
  "language_info": {
   "codemirror_mode": {
    "name": "ipython",
    "version": 3
   },
   "file_extension": ".py",
   "mimetype": "text/x-python",
   "name": "python",
   "nbconvert_exporter": "python",
   "pygments_lexer": "ipython3",
   "version": "3.9.13"
  }
 },
 "nbformat": 4,
 "nbformat_minor": 2
}
